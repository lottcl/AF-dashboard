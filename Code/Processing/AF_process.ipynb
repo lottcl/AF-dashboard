{
 "cells": [
  {
   "cell_type": "markdown",
   "id": "b001f378-bdae-4234-b9ec-3cefcd9f8571",
   "metadata": {},
   "source": [
    "### MIMIC-III Data Processing <a id=\"processing\"></a>"
   ]
  },
  {
   "cell_type": "markdown",
   "id": "8ca4e702-abfe-4977-9ab8-7636b89672d1",
   "metadata": {},
   "source": [
    "##### Import necessary packages"
   ]
  },
  {
   "cell_type": "code",
   "execution_count": 1,
   "id": "d30032b6-876e-4fad-a160-2b119725c233",
   "metadata": {},
   "outputs": [],
   "source": [
    "import pandas as pd \n",
    "import numpy as np\n",
    "from datetime import datetime\n",
    "import sqlite3"
   ]
  },
  {
   "cell_type": "markdown",
   "id": "a5bec4de-4f6a-4d6b-9c4b-221cc9cf45a6",
   "metadata": {},
   "source": [
    "##### Read in `procedures` table from `MIMIC-III`"
   ]
  },
  {
   "cell_type": "code",
   "execution_count": 2,
   "id": "84ec5f38-09be-4122-90d9-1c64d62d202c",
   "metadata": {},
   "outputs": [],
   "source": [
    "procedures = pd.read_csv('../../Data/MIMIC-III/PROCEDURES_ICD.csv.gz', compression='gzip')"
   ]
  },
  {
   "cell_type": "markdown",
   "id": "bb9a5e5a-e0c5-4973-a2a3-1db30948b8b5",
   "metadata": {},
   "source": [
    "##### Select the subjects and admissions with CABG procedure codes"
   ]
  },
  {
   "cell_type": "code",
   "execution_count": 3,
   "id": "a25efb4d-f6a1-4a87-b265-d0a656d26cb2",
   "metadata": {},
   "outputs": [],
   "source": [
    "cabg = procedures.loc[procedures['ICD9_CODE'].isin([3610,3611,3612,\n",
    "                                                    3613,3614,3615,\n",
    "                                                    3616,3617,3619])].drop(columns=['ROW_ID',\n",
    "                                                                                'SEQ_NUM',\n",
    "                                                                                'ICD9_CODE']).drop_duplicates()"
   ]
  },
  {
   "cell_type": "markdown",
   "id": "bcc658cf-9d10-4c39-b7a6-a50a128f0953",
   "metadata": {},
   "source": [
    "##### Import the `vital_labs_mean` table from the `MIMIC-Extract` output file"
   ]
  },
  {
   "cell_type": "code",
   "execution_count": 4,
   "id": "b8fb259d-e779-4860-b97b-f11a8d926394",
   "metadata": {},
   "outputs": [],
   "source": [
    "extract = pd.read_hdf('../../Data/MIMIC-Extract/all_hourly_data.h5', 'vitals_labs_mean')"
   ]
  },
  {
   "cell_type": "markdown",
   "id": "11cf8e31-d700-44c5-9ca3-5f01b354713a",
   "metadata": {},
   "source": [
    "##### Convert the extract table from pivot style to a flat dataframe"
   ]
  },
  {
   "cell_type": "code",
   "execution_count": 5,
   "id": "523e28b6-b93f-4e88-bbc2-ede93a98ca79",
   "metadata": {},
   "outputs": [],
   "source": [
    "extract_flat = pd.DataFrame(extract.to_records())\n",
    "extract_flat.columns = [hdr.replace(\"('\", \"\").replace(\"', 'mean')\", \"\") \\\n",
    "                     for hdr in extract_flat.columns]"
   ]
  },
  {
   "cell_type": "markdown",
   "id": "2be75ff1-9f1f-42ca-a353-3d11a0e5fad7",
   "metadata": {},
   "source": [
    "##### Select the relevant vital measurements from the `extract` dataframe"
   ]
  },
  {
   "cell_type": "code",
   "execution_count": 6,
   "id": "4e7b0f5f-f96c-46ac-a2fb-16313af61462",
   "metadata": {},
   "outputs": [],
   "source": [
    "extract_items = extract_flat[['subject_id', 'hadm_id', 'height', 'weight', 'creatinine']]"
   ]
  },
  {
   "cell_type": "markdown",
   "id": "14d6e1ee-7c48-471c-80c0-f2896e179615",
   "metadata": {},
   "source": [
    "##### Merge `cabg` and `extract_items` to select CABG admissions within the extract vital measurement dataframe"
   ]
  },
  {
   "cell_type": "code",
   "execution_count": 7,
   "id": "5761ba9a-3e31-44e2-8b2b-30b792f4a5c2",
   "metadata": {},
   "outputs": [],
   "source": [
    "cabg_extract = pd.merge(cabg, extract_items, how='left', left_on=['SUBJECT_ID', 'HADM_ID'], \n",
    "                        right_on=['subject_id','hadm_id']).drop(columns=['subject_id','hadm_id'])"
   ]
  },
  {
   "cell_type": "markdown",
   "id": "5ea63236-47b4-4ff5-ad92-05cc12e477af",
   "metadata": {},
   "source": [
    "##### Aggregate the median measurement for each admission and convert from a pivot format to a flat dataframe"
   ]
  },
  {
   "cell_type": "code",
   "execution_count": 8,
   "id": "3551718c-580d-4d08-812c-9035eeac6a03",
   "metadata": {},
   "outputs": [],
   "source": [
    "median_extract = cabg_extract.groupby(['SUBJECT_ID','HADM_ID'], as_index=False).median()\n",
    "median_ext_flat = pd.DataFrame(median_extract.to_records())"
   ]
  },
  {
   "cell_type": "markdown",
   "id": "84ae3305-6365-4148-bf88-1adf1acea18d",
   "metadata": {},
   "source": [
    "##### Aggregate the median measurement for each subject for imputation and convert from a pivot format to a flat dataframe"
   ]
  },
  {
   "cell_type": "code",
   "execution_count": 9,
   "id": "d7fa098d-f61f-404c-870f-7bd287a3125c",
   "metadata": {},
   "outputs": [],
   "source": [
    "sub_med_extract = cabg_extract.groupby(['SUBJECT_ID'], as_index=False).median()\n",
    "sub_med_ext_flat = pd.DataFrame(sub_med_extract.to_records())"
   ]
  },
  {
   "cell_type": "markdown",
   "id": "8834b1df-3f97-4fd6-b0d9-d44cb32eb605",
   "metadata": {},
   "source": [
    "##### Merge `median_ext_flat` and `sub_med_ext_flat` and impute subject aggregated medians to null values for the same subject"
   ]
  },
  {
   "cell_type": "code",
   "execution_count": 10,
   "id": "8a3da093-d18e-432c-8473-80e580077d77",
   "metadata": {},
   "outputs": [],
   "source": [
    "#merge tables\n",
    "sub_med_merge = pd.merge(median_ext_flat, sub_med_ext_flat, how='inner', \n",
    "                         on=['SUBJECT_ID']).drop(columns=['index_x','HADM_ID_y'])\n",
    "\n",
    "#fill null values based on subject median\n",
    "sub_med_merge['height_x'].fillna(sub_med_merge['height_y'], inplace=True)\n",
    "sub_med_merge['weight_x'].fillna(sub_med_merge['weight_y'], inplace=True)\n",
    "sub_med_merge['creatinine_x'].fillna(sub_med_merge['creatinine_y'], inplace=True)\n",
    "\n",
    "#remove duplicate columns and rename\n",
    "sub_med_filled = sub_med_merge.drop(columns=['index_y', 'height_y', \n",
    "                            'weight_y', 'creatinine_y']).rename(columns={'HADM_ID_x': 'HADM_ID', 'height_x': 'height', \n",
    "                                                                         'weight_x': 'weight', \n",
    "                                                                         'creatinine_x': 'creatinine'})"
   ]
  },
  {
   "cell_type": "markdown",
   "id": "50ebcbab-e25a-43b0-a600-d623e0f015ad",
   "metadata": {},
   "source": [
    "##### Read in `admissions` and `patients` tables from `MIMIC-III` "
   ]
  },
  {
   "cell_type": "code",
   "execution_count": 11,
   "id": "39d83750-9cd4-4578-bcdf-4763d23e9463",
   "metadata": {},
   "outputs": [],
   "source": [
    "admissions = pd.read_csv('../../Data/MIMIC-III/ADMISSIONS.csv.gz', compression='gzip').drop(columns=['ROW_ID'])\n",
    "patients = pd.read_csv('../../Data/MIMIC-III/PATIENTS.csv.gz', compression='gzip').drop(columns=['ROW_ID'])"
   ]
  },
  {
   "cell_type": "markdown",
   "id": "037a6295-3681-45f7-ba43-63ea951604f4",
   "metadata": {},
   "source": [
    "##### Merge `admissions` and `patients` and calculate age at admission for each subject"
   ]
  },
  {
   "cell_type": "code",
   "execution_count": 12,
   "id": "4a9a4e98-9c9c-47c9-902e-76062c7972c3",
   "metadata": {},
   "outputs": [],
   "source": [
    "#convert DOB and ADMITTIME to datetime format\n",
    "admissions['ADMITTIME'] = pd.to_datetime(admissions['ADMITTIME'], format='%Y-%m-%dT%H:%M:%S').dt.date\n",
    "patients['DOBTIME'] = pd.to_datetime(patients['DOB'], format='%Y-%m-%dT%H:%M:%S').dt.date\n",
    "\n",
    "#merge tables\n",
    "adm_pat = pd.merge(admissions, patients, how='inner', on=['SUBJECT_ID'])\n",
    "\n",
    "#calculate age at admission\n",
    "adm_pat['age'] = adm_pat.apply(lambda e: (e['ADMITTIME'] - e['DOBTIME']).days/365, axis=1)\n",
    "adm_pat['age'] = adm_pat['age'].astype('int64')\n",
    "\n",
    "#select the relevant columns\n",
    "adm_pat_cols=adm_pat[['SUBJECT_ID','HADM_ID','GENDER','age']]"
   ]
  },
  {
   "cell_type": "markdown",
   "id": "852c242d-0840-4c45-b22e-677aa78b065e",
   "metadata": {},
   "source": [
    "##### Merge `sub_med_merge` with `adm_pat_cols` to determine age and gender of subjects"
   ]
  },
  {
   "cell_type": "code",
   "execution_count": 13,
   "id": "c39cc62c-60a6-49d1-a420-04c512a22d68",
   "metadata": {},
   "outputs": [],
   "source": [
    "patient_merge = pd.merge(sub_med_filled, adm_pat_cols, how='left', on=['SUBJECT_ID', 'HADM_ID'])"
   ]
  },
  {
   "cell_type": "markdown",
   "id": "07dccec6-28ee-4997-8f21-5208dac35d9b",
   "metadata": {},
   "source": [
    "##### Create age groups for imputation"
   ]
  },
  {
   "cell_type": "code",
   "execution_count": 14,
   "id": "9ae999c8-8cdf-454a-b94f-735d6b0a5f56",
   "metadata": {},
   "outputs": [],
   "source": [
    "#make a db in memory for sql queries\n",
    "conn = sqlite3.connect(':memory:')\n",
    "#write the dataframe to sql\n",
    "patient_merge.to_sql('patient_merge', conn, index=False)"
   ]
  },
  {
   "cell_type": "code",
   "execution_count": 15,
   "id": "abf23bf3-3c8c-44f0-88b8-418ef58bb5d7",
   "metadata": {},
   "outputs": [],
   "source": [
    "qry1 = '''\n",
    "    select\n",
    "        SUBJECT_ID,\n",
    "        HADM_ID,\n",
    "        height,\n",
    "        weight,\n",
    "        creatinine,\n",
    "        GENDER,\n",
    "        age,\n",
    "        case\n",
    "            when age <= 46 then 1\n",
    "            when age between 47 and 55 then 2\n",
    "            when age between 56 and 65 then 3\n",
    "            when age between 66 and 75 then 4\n",
    "            when age between 76 and 90 then 5\n",
    "            else 6\n",
    "            end as age_group\n",
    "    from patient_merge\n",
    "    order by \n",
    "        GENDER,\n",
    "        age_group\n",
    "'''\n",
    "\n",
    "#run the sql query and create a pandas dataframe\n",
    "age_group = pd.read_sql_query(qry1, conn)"
   ]
  },
  {
   "cell_type": "markdown",
   "id": "8b858092-f633-48f4-90c0-4426c20f5a78",
   "metadata": {
    "tags": []
   },
   "source": [
    "##### Calculate median height and weight by age and gender and convert from a pivot format to a flat dataframe"
   ]
  },
  {
   "cell_type": "code",
   "execution_count": 16,
   "id": "b5f29a5b-f60e-44d0-8cd1-ed7f7de366e4",
   "metadata": {
    "tags": []
   },
   "outputs": [],
   "source": [
    "med_a_g = age_group.groupby(['age_group', 'GENDER'], as_index=False).median()\n",
    "med_a_g_flat = pd.DataFrame(med_a_g.to_records())"
   ]
  },
  {
   "cell_type": "markdown",
   "id": "7df89688-5655-4d36-aa55-bb8c1dcc8580",
   "metadata": {},
   "source": [
    "##### Impute height and weight by age and gender from `med_a_g_flat`"
   ]
  },
  {
   "cell_type": "code",
   "execution_count": 17,
   "id": "ef7804b1-03d9-4da2-bb67-4d439b5f992c",
   "metadata": {},
   "outputs": [],
   "source": [
    "#merge tables\n",
    "a_g_merge = pd.merge(age_group, med_a_g_flat, how='left', \n",
    "                     on=['age_group','GENDER']\n",
    "                    ).drop(columns=['index','SUBJECT_ID_y', 'HADM_ID_y', 'creatinine_y', 'age_y', 'age_group'])\n",
    "\n",
    "#fill null values based on age/gender median\n",
    "a_g_merge['height_x'].fillna(a_g_merge['height_y'], inplace=True)\n",
    "a_g_merge['weight_x'].fillna(a_g_merge['weight_y'], inplace=True)\n",
    "\n",
    "#remove duplicate columns and rename\n",
    "a_g_filled = a_g_merge.drop(columns=['height_y',\n",
    "                                     'weight_y']).rename(columns={'SUBJECT_ID_x': 'subject_id',\n",
    "                                                                  'HADM_ID_x': 'hadm_id', \n",
    "                                                                  'GENDER': 'gender',\n",
    "                                                                  'height_x': 'height',\n",
    "                                                                  'weight_x': 'weight',\n",
    "                                                                  'creatinine_x': 'creatinine',\n",
    "                                                                  'age_x': 'age'})"
   ]
  },
  {
   "cell_type": "markdown",
   "id": "71339fc5-c4e0-497b-b64e-09badd2d8abc",
   "metadata": {},
   "source": [
    "##### Export the `h_w_dropna` dataset to impute creatinine values in R using the `MICE` package (see attached R code for imputation)"
   ]
  },
  {
   "cell_type": "code",
   "execution_count": 18,
   "id": "ca71e60d-e168-462a-850c-c02416122eb7",
   "metadata": {},
   "outputs": [],
   "source": [
    "a_g_filled.to_csv('../../Data/MIMIC-III/na_creatinine.csv')"
   ]
  },
  {
   "cell_type": "markdown",
   "id": "b648e877-e93d-42dc-a186-1399b7eb6ee7",
   "metadata": {},
   "source": [
    "##### Read in the dataset with imputed creatinine values"
   ]
  },
  {
   "cell_type": "code",
   "execution_count": 19,
   "id": "404cfd92-277f-448a-a973-0b12d77e7eaa",
   "metadata": {},
   "outputs": [],
   "source": [
    "imputed = pd.read_csv('../../Data/MIMIC-III/imp_creatinine.csv')"
   ]
  },
  {
   "cell_type": "markdown",
   "id": "baec7b86-6513-4a23-9c58-239852616c89",
   "metadata": {},
   "source": [
    "##### Calculate eGFR from creatinine, gender, and age in SQL"
   ]
  },
  {
   "cell_type": "code",
   "execution_count": 21,
   "id": "4ce9e13a-1024-44c4-b0cb-cc6d736621f4",
   "metadata": {},
   "outputs": [],
   "source": [
    "#write the dataframe to sql\n",
    "imputed.to_sql('imputed', conn, index=False)\n",
    "\n",
    "#create a sql function for exponents\n",
    "def sqlite_power(x,n):\n",
    "    return x**int(n)\n",
    "conn.create_function(\"power\", 2, sqlite_power)"
   ]
  },
  {
   "cell_type": "code",
   "execution_count": 22,
   "id": "2415e1a8-cb45-4dcc-aca9-1d4c3a0b9f51",
   "metadata": {},
   "outputs": [],
   "source": [
    "#write the sql query to calculate eGFR\n",
    "qry2 = '''\n",
    "    select\n",
    "        subject_id,\n",
    "        hadm_id,\n",
    "        height,\n",
    "        weight,\n",
    "        gender,\n",
    "        age,\n",
    "        creatinine,\n",
    "        case \n",
    "            when gender = \"F\" and creatinine <= 0.7 then 144*(power((creatinine/0.7),-0.329))*(power(0.993,age))\n",
    "            when gender = \"F\" and creatinine > 0.7 then 144*(power((creatinine/0.7),-1.209))*(power(0.993,age))\n",
    "            when gender = \"M\" and creatinine <= 0.9 then 141*(power((creatinine/0.7),-0.411))*(power(0.993,age))\n",
    "            else 141*(power((creatinine/0.7),-1.209))*(power(0.993,age))\n",
    "            end as eGFR\n",
    "    from imputed\n",
    "    order by \n",
    "        subject_id, \n",
    "        hadm_id\n",
    "'''\n",
    "\n",
    "#run the sql query and create a pandas dataframe\n",
    "egfr_calc = pd.read_sql_query(qry2, conn)"
   ]
  },
  {
   "cell_type": "markdown",
   "id": "e766558f-ac46-43aa-98c6-b50309a114d7",
   "metadata": {},
   "source": [
    "##### Read in `diagnoses` and `notes` tables from `MIMIC-III`"
   ]
  },
  {
   "cell_type": "code",
   "execution_count": 23,
   "id": "58358ab4-22a5-4cbe-93f6-52f6c52415bd",
   "metadata": {},
   "outputs": [],
   "source": [
    "diagnoses = pd.read_csv('../../Data/MIMIC-III/PROCEDURES_ICD.csv.gz', compression='gzip').drop(columns=['ROW_ID', 'SEQ_NUM'])\n",
    "notes = pd.read_csv('../../Data/MIMIC-III/NOTEEVENTS.csv.gz', compression='gzip', usecols=['SUBJECT_ID', 'HADM_ID', 'CATEGORY', 'ISERROR', 'TEXT'])\n",
    "disch_notes = notes.loc[(notes['CATEGORY']==\"Discharge summary\")&\n",
    "                        ((notes['ISERROR'].isnull())|\n",
    "                         (notes['ISERROR']==0))].drop(columns=['CATEGORY', 'ISERROR'])"
   ]
  },
  {
   "cell_type": "markdown",
   "id": "c5bdec10-24ad-4d5d-9653-ab8f972bafdb",
   "metadata": {},
   "source": [
    "##### Merge `egfr_calc` and `diagnoses`, `procedures`, and `admissions` to get the necessary information for the risk score indicators"
   ]
  },
  {
   "cell_type": "code",
   "execution_count": 24,
   "id": "0753dee6-024f-45e6-95f4-0ecddc055c15",
   "metadata": {},
   "outputs": [],
   "source": [
    "adm = admissions[['SUBJECT_ID', 'HADM_ID', 'ADMISSION_TYPE']]\n",
    "cabg_ind = pd.merge(pd.merge(pd.merge(pd.merge(egfr_calc, diagnoses, how='inner', left_on=['subject_id','hadm_id'], \n",
    "                                               right_on=['SUBJECT_ID', 'HADM_ID']),\n",
    "                                      procedures, how='inner', on=['SUBJECT_ID', 'HADM_ID']),\n",
    "                             adm, how='left', left_on=['subject_id','hadm_id'], right_on=['SUBJECT_ID', 'HADM_ID']), \n",
    "                    notes, how='left', left_on=['subject_id','hadm_id'], \n",
    "                    right_on=['SUBJECT_ID', 'HADM_ID']).drop(columns=['SUBJECT_ID',\n",
    "                                                                      'HADM_ID',\n",
    "                                                                      'ROW_ID',\n",
    "                                                                      'SEQ_NUM']).rename(columns={'ICD9_CODE_x': 'd_ICD',\n",
    "                                                                                                  'ICD9_CODE_y': 'p_ICD',\n",
    "                                                                                                  'TEXT': 'notes',\n",
    "                                                                                                  'ADMISSION_TYPE': 'type'})"
   ]
  },
  {
   "cell_type": "markdown",
   "id": "65bc2115-eeaf-4168-ac7c-ab26805c1b06",
   "metadata": {},
   "source": [
    "##### Create indicators for diagnoses and procedures"
   ]
  },
  {
   "cell_type": "markdown",
   "id": "ba4243d0-8c49-478a-b378-8698daf64e51",
   "metadata": {},
   "source": [
    "cabg_ind['mmvd'] = np.where((cabg_ind['notes'].str.contains('mild mitral')),1,0)"
   ]
  },
  {
   "cell_type": "code",
   "execution_count": 35,
   "id": "aff9910c-b78b-4ac0-b1e1-ee7a4a2ecdca",
   "metadata": {},
   "outputs": [],
   "source": [
    "#Congestive Heart Failure/Left Ventricular Dysfunction (CHADS2)\n",
    "cabg_ind['chf'] = np.where(cabg_ind['d_ICD'].isin(['4280','4281']),1,0)\n",
    "#Hypertension (CHADS2)\n",
    "cabg_ind['hbp'] = np.where(cabg_ind['d_ICD'].isin(['4010','4011','4019']),1,0)\n",
    "#Diabetes Mellitus (CHADS2)\n",
    "cabg_ind['dm'] = np.where(cabg_ind['d_ICD'].isin(['24900', '24901', '24910', '24911', '24920', '24921', '24930', '24931', '24940', '24941', '24950', '24951', '24960', \n",
    "                                                  '24961', '24970', '24971', '24980', '24981', '24990', '24991', '25000', '25001', '25002', '25003', '25010', '25011', \n",
    "                                                  '25012', '25013', '25020', '25021', '25022', '25023', '25030', '25031', '25032', '25033', '25040', '25041', '25042', \n",
    "                                                  '25043', '25050', '25051', '25052', '25053', '25060', '25061', '25062', '25063', '25070', '25071', '25072', '25073', \n",
    "                                                  '25080', '25081', '25082', '25083', '25090', '25091', '25092', '25093', '64800', '64801', '64802', '64803', '64804'\n",
    "                                                 ]),1,0)\n",
    "#Stroke/Transient Ischemic Attack/Thromboembolism (CHADS2)\n",
    "cabg_ind['stroke'] = np.where(cabg_ind['d_ICD'].isin(['V1254']),1,0)\n",
    "#Vascular Disease (CHADS2)\n",
    "cabg_ind['vd'] = np.where(cabg_ind['d_ICD'].isin(['393', '3940', '3941', '3942', '3949', '3950', '3951', '3952', '3959', '3960', '3961', '3962', '3963', '3968', \n",
    "                                                  '3969', '3970', '3971', '3979', '3980', '4010', '4011', '4019', '40200', '40201', '40210', '40211', '40290', \n",
    "                                                  '40291', '40300', '40310', '40311', '40390', '40391', '40400', '40401', '40402', '40403', '40410', '40411', '40412', \n",
    "                                                  '40413', '40490', '40491', '40492', '40493', '40501', '40509', '40511', '40519', '40591', '40599', '41000', '41001', \n",
    "                                                  '41002', '41010', '41011', '41012', '41020', '41021', '41022', '41030', '41031', '41032', '41040', '41041', '41042', \n",
    "                                                  '41050', '41051', '41052', '41060', '41061', '41062', '41070', '41071', '41072', '41080', '41081', '41082', '41090', \n",
    "                                                  '41091', '41092', '4110', '4111', '41181', '41189', '412', '4130', '4131', '4139', '41400', '41401', '41402', \n",
    "                                                  '41403', '41404', '41405', '41406', '41407', '41410', '41411', '41412', '41419', '4142', '4143', '4144', '4148', \n",
    "                                                  '4149', '4150', '41511', '41512', '41513', '41519', '4160', '4161', '4162', '4168', '4169', '4170', '4171', '4178', \n",
    "                                                  '4179', '4200', '42090', '42091', '42099', '4210', '4211', '4219', '4220', '42290', '42291', '42292', '42293', \n",
    "                                                  '42299', '4230', '4231', '4232', '4233', '4238', '4239', '4240', '4241', '4242', '4243', '42490', '42491', '42499', \n",
    "                                                  '4250', '42511', '42518', '4252', '4253', '4254', '4255', '4257', '4258', '4259', '4260', '42610', '42611', '42612', \n",
    "                                                  '42613', '4262', '4263', '4264', '42650', '42651', '42652', '42653', '42654', '4266', '4267', '42681', '42682', \n",
    "                                                  '42689', '4269', '4270', '4271', '4272', '42731', '42732', '42741', '42742', '4275', '42760', '42761', '42769', \n",
    "                                                  '42781', '42789', '4279', '4280', '4281', '42820', '42821', '42822', '42823', '42830', '42831', '42832', '42840', \n",
    "                                                  '42841', '42842', '42843', '4289', '4290', '4291', '4292', '4293', '4294', '4295', '4296', '42971', '42979', '42981', \n",
    "                                                  '42982', '42983', '42989', '4299', '43390', '430', '431', '4320', '4321', '4329', '43300', '43301', '43310', '43320', \n",
    "                                                  '43321', '43330', '43331', '43380', '43381', '43390', '43391', '43400', '43401', '43410', '43411', '43490', '43491', \n",
    "                                                  '4350', '4351', '4352', '4353', '4358', '436', '4370', '4371', '4372', '4373', '4374', '4375', '4376', '4377', '4378',\n",
    "                                                  '4379', '4380', '43810', '43811', '43812', '43813', '43814', '43819', '43820', '43821', '43822', '43830', '43831',\n",
    "                                                  '43840', '43841', '43842', '43850', '43851', '43852', '43853', '4386', '4387', '43881', '43882', '43883', '4400', \n",
    "                                                  '4401', '44020', '44021', '44022', '44023', '44024', '44029', '44030', '44031', '44032', '4404', '4408', '4409', \n",
    "                                                  '44100', '44101', '44102', '44103', '4411', '4412', '4413', '4414', '4415', '4416', '4417', '4419', '4420', '4421', \n",
    "                                                  '4422', '4423', '44281', '44282', '44283', '44284', '44289', '4429', '4430', '4431', '44321', '44322', '44323', \n",
    "                                                  '44324', '44329', '44381', '44389', '4439', '44401', '44409', '4441', '44421', '4422', '44481', '44489', '4449', \n",
    "                                                  '44501', '44502', '44581', '44589', '4460', '4461', '44620', '44621', '44629', '4463', '4464', '4465', '4466', '4467',\n",
    "                                                  '4470', '4471', '4472', '4473', '4474', '4475', '4476', '44770', '44771', '44772', '44773', '4478', '4479', '4480',\n",
    "                                                  '4481', '4489', '449']),1,0)\n",
    "#Peripheral Vascular Disease (AFRI)\n",
    "cabg_ind['pvd'] = np.where(cabg_ind['d_ICD'].isin(['44020', '44021', '44022', '44023', '44024', '44029', '4430', '4431', '44321', '44322', '44323', '44324', '44329', \n",
    "                                                   '44381', '44389', '4439', '45981', '74760', '74769', '9972']),1,0)\n",
    "#Left Atrial Dilation (NPOAF)\n",
    "cabg_ind['lad'] = np.where(cabg_ind['d_ICD'].isin(['4293']),1,0)\n",
    "#Mild Mitral Valve Disease (NPOAF)\n",
    "cabg_ind['mild'] = np.where((cabg_ind['notes'].str.contains('mild mitral')),1,0)\n",
    "cabg_ind['mvd'] = np.where((cabg_ind['d_ICD'].isin(['3940', '3941', '3942', '3949', '3960', '3961', '3962', '3963', '3968', '3969'])),1,0)\n",
    "mask_1_m = ((cabg_ind['mild'].astype(str) == \"1\") & (cabg_ind['mvd'].astype(str) == \"1\"))\n",
    "mask_0_m = ((cabg_ind['mild'].astype(str) == \"0\") & (cabg_ind['mvd'].astype(str) == \"1\")) | (cabg_ind['mvd'].astype(str) == \"0\")\n",
    "cabg_ind.loc[mask_0_m, 'mmvd'] = 0\n",
    "cabg_ind.loc[mask_1_m, 'mmvd'] = 1\n",
    "#Moderate to Severe Mitral Valve Disease (NPOAF)\n",
    "mask_1_s = ((cabg_ind['mild'].astype(str) == \"0\") & (cabg_ind['mvd'].astype(str) == \"1\"))\n",
    "mask_0_s = ((cabg_ind['mild'].astype(str) == \"1\") & (cabg_ind['mvd'].astype(str) == \"1\")) | (cabg_ind['mvd'].astype(str) == \"0\")\n",
    "cabg_ind.loc[mask_0_s, 'smvd'] = 0\n",
    "cabg_ind.loc[mask_1_s, 'smvd'] = 1\n",
    "#cabg_ind['smvd'] = np.where(((cabg_ind['mild']==0)&(cabg_ind['mvd']==1)),1,0)\n",
    "#COPD (POAF)\n",
    "cabg_ind['copd'] = np.where(cabg_ind['d_ICD'].isin(['49320', '49321', '49322']),1,0)\n",
    "#Intra-aortic Balloon Pump (POAF)\n",
    "cabg_ind['iabp'] = np.where(cabg_ind['p_ICD'].isin(['3596']),1,0)\n",
    "#Combined Valve/Artery Surgery (POAF)\n",
    "cabg_ind['cvas'] = np.where(cabg_ind['p_ICD'].isin(['3500', '3501', '3502', '3503', '3504', '3505', '3506', '3507', '3509', '3510', '3511', '3512', '3513', '3514',\n",
    "                                                   '3520', '3521', '3522', '3523', '3524', '3525', '3526', '3527', '3528', '3539', '3599']),1,0)\n",
    "#Emergency (POAF)\n",
    "cabg_ind['emergency'] = np.where(cabg_ind['type']=='EMERGENCY',1,0)\n",
    "#Dialysis (POAF)\n",
    "cabg_ind['dialysis'] = np.where(cabg_ind['p_ICD'].isin(['3895','3995','5498']),1,0)\n",
    "#myocardial infaction (Simplified)\n",
    "cabg_ind['MI'] = np.where((cabg_ind['p_ICD'].isin(['41000', '41001', '41002', '41010', '41011', '41012', '41020', '41021', '41022', '41030', '41031', '41032', '41040', '41041', '41042', '41050', '41051', '41052', '41060', '41061','41062','41070','41071','41072','41080','41081','41082','41090','41091','41092'])),1,0)\n",
    "#Atrial Fibrillation (outcome for all risk scores)\n",
    "cabg_ind['AF'] = np.where((cabg_ind['d_ICD']=='42731'),1,0)"
   ]
  },
  {
   "cell_type": "markdown",
   "id": "747219cc-06bb-4913-be4a-6f8818d1f7bc",
   "metadata": {},
   "source": [
    "##### Aggregate indicators for each subject and admission"
   ]
  },
  {
   "cell_type": "code",
   "execution_count": 26,
   "id": "6038b2e8-6c16-4409-8eba-d4b845bcb52a",
   "metadata": {},
   "outputs": [],
   "source": [
    "indicators = cabg_ind.drop(columns=['d_ICD',\n",
    "                                    'p_ICD',\n",
    "                                    'type',\n",
    "                                    'mild',\n",
    "                                    'mvd'\n",
    "                           ]).groupby(['subject_id','hadm_id'], as_index=False).max()"
   ]
  },
  {
   "cell_type": "markdown",
   "id": "2456c04b-05ab-45f6-89f9-69b9fec9ab3d",
   "metadata": {},
   "source": [
    "### Risk Score Calculation <a id=\"scores\"></a>"
   ]
  },
  {
   "cell_type": "markdown",
   "id": "19ae2e19-c0d8-4953-ab26-55fb6003e343",
   "metadata": {},
   "source": [
    "##### Establish a function to calculate POAF -- *this function will not be used for the current iteration since we will not be calculating the POAF score at the moment* (Cameron et al., 2018)"
   ]
  },
  {
   "cell_type": "code",
   "execution_count": 27,
   "id": "86d711b8-f33b-4114-86b6-09cc0075f1b9",
   "metadata": {},
   "outputs": [],
   "source": [
    "def poaf(x):\n",
    "    poaf=0\n",
    "    if (60 <= x['age'] <= 69):\n",
    "        poaf=poaf+1\n",
    "    if (70 <= x['age'] <= 79): \n",
    "        poaf=poaf+2\n",
    "    if (x['age'] >= 80):\n",
    "        poaf=poaf+3\n",
    "    if (x['copd'] == 1):\n",
    "        poaf=poaf+1\n",
    "    if (x['eGFR'] < 15):\n",
    "        poaf=poaf+1\n",
    "    elif (x['dialysis'] == 1):\n",
    "        poaf=poaf+1\n",
    "    if (x['emergency'] == 1):\n",
    "        poaf=poaf+1\n",
    "    if (x['iabp'] == 1):\n",
    "        poaf=poaf+1\n",
    "    if (x['cvas'] == 1):\n",
    "        poaf=poaf+1\n",
    "    return poaf"
   ]
  },
  {
   "cell_type": "markdown",
   "id": "0d5af955-f7c6-428c-9beb-13a321fad71e",
   "metadata": {},
   "source": [
    "##### Establish a function to calculate CHADS2 (Cameron et al., 2018)"
   ]
  },
  {
   "cell_type": "code",
   "execution_count": 28,
   "id": "27a0e3b1-af16-4153-9dde-196ce8b072c3",
   "metadata": {},
   "outputs": [],
   "source": [
    "def chads2(x):\n",
    "    chads2=0\n",
    "    if (x['chf'] == 1):\n",
    "        chads2=chads2+1\n",
    "    if (x['hbp'] == 1):\n",
    "        chads2=chads2+1\n",
    "    if (x['age'] >= 75):\n",
    "        chads2=chads2+2\n",
    "    if (x['dm'] == 1):\n",
    "        chads2=chads2+1\n",
    "    if (x['stroke'] == 1):\n",
    "        chads2=chads2+2\n",
    "    if (x['pvd'] == 1):\n",
    "        chads2=chads2+1\n",
    "    if (65 <= x['age'] <= 74):\n",
    "        chads2=chads2+1\n",
    "    if (x['gender'] == 'F'):\n",
    "        chads2=chads2+1\n",
    "    return chads2"
   ]
  },
  {
   "cell_type": "markdown",
   "id": "b534fa3e-b02b-4feb-859e-c34d5c30b6a4",
   "metadata": {},
   "source": [
    "##### Establish a function to calculate AFRI (Cameron et al., 2018)"
   ]
  },
  {
   "cell_type": "code",
   "execution_count": 29,
   "id": "17f8a2a3-3bb6-44b8-92a0-1e4b045645ea",
   "metadata": {},
   "outputs": [],
   "source": [
    "def afri(x):\n",
    "    afri=0\n",
    "    if (x['gender'] == 'M'):\n",
    "        if (x['age'] > 60):\n",
    "            afri=afri+1\n",
    "        if (x['weight'] > 76):\n",
    "            afri=afri+1\n",
    "        if (x['height'] > 176):\n",
    "            afri=afri+1\n",
    "        if (x['pvd'] == 1):\n",
    "            afri=afri+1\n",
    "    elif (x['gender'] == 'F'):\n",
    "        if (x['age'] > 66):\n",
    "            afri=afri+1\n",
    "        if (x['weight'] > 64):\n",
    "            afri=afri+1\n",
    "        if (x['height'] > 168):\n",
    "            afri=afri+1\n",
    "        if (x['pvd'] == 1):\n",
    "            afri=afri+1\n",
    "    return afri"
   ]
  },
  {
   "cell_type": "markdown",
   "id": "87f29a1b-940f-4508-977c-31ba0a1a8d5f",
   "metadata": {},
   "source": [
    "##### Establish a function to calculate NPOAF (Tran et al., 2015)"
   ]
  },
  {
   "cell_type": "code",
   "execution_count": 30,
   "id": "ee3c1989-f4ee-4bf1-8131-e6b80dbdd551",
   "metadata": {},
   "outputs": [],
   "source": [
    "def npoaf(x):\n",
    "    npoaf=0\n",
    "    if (65 <= x['age'] <= 74):\n",
    "        npoaf=npoaf+2\n",
    "    if (x['age'] >= 75):\n",
    "        npoaf=npoaf+3\n",
    "    if (x['mmvd'] == 1):\n",
    "        npoaf=npoaf+1\n",
    "    if (x['smvd'] == 1):\n",
    "        npoaf=npoaf+3\n",
    "    if (x['lad'] == 1):\n",
    "        npoaf=npoaf+1\n",
    "    return npoaf"
   ]
  },
  {
   "cell_type": "code",
   "execution_count": 31,
   "id": "717f89b4-dc3a-4332-b09e-59e69701ddeb",
   "metadata": {},
   "outputs": [],
   "source": [
    "def simplified(x):\n",
    "    simplified=0\n",
    "    if (x['age'] >= 65):\n",
    "        simplified=simplified+2\n",
    "    if (x['hbp'] == 1):\n",
    "        simplified=simplified+2\n",
    "    if (x['MI'] == 1):\n",
    "        simplified=simplified+1\n",
    "    if (x['chf'] == 1):\n",
    "        simplified=simplified+2\n",
    "    return simplified"
   ]
  },
  {
   "cell_type": "code",
   "execution_count": 32,
   "id": "3f8baf0f-1e43-4a21-9802-7da5d6b79d4f",
   "metadata": {},
   "outputs": [],
   "source": [
    "def comaf(x):\n",
    "    comaf=0\n",
    "    if (65 <= x['age'] <= 74):\n",
    "        comaf=comaf+1\n",
    "    if (x['age'] >= 65):\n",
    "        comaf=comaf+2\n",
    "    if (x['gender'] == 'F'):\n",
    "        comaf=comaf+1\n",
    "    if (x['hbp'] == 1):\n",
    "        comaf=comaf+1\n",
    "    if (x['dm'] == 1):\n",
    "        comaf=comaf+1\n",
    "    if (x['stroke'] == 1):\n",
    "        comaf=comaf+2\n",
    "    return comaf"
   ]
  },
  {
   "cell_type": "markdown",
   "id": "8cf20d41-cb89-4f54-93d9-18a003c265a7",
   "metadata": {},
   "source": [
    "##### Apply the functions to calculate the risk scores"
   ]
  },
  {
   "cell_type": "code",
   "execution_count": 33,
   "id": "d2843ffe-8a12-4839-82b3-4f481ca32064",
   "metadata": {},
   "outputs": [],
   "source": [
    "indicators['poaf'] = indicators.apply(poaf, axis=1)\n",
    "indicators['chads2'] = indicators.apply(chads2, axis=1)\n",
    "indicators['afri'] = indicators.apply(afri, axis=1)\n",
    "indicators['npoaf'] = indicators.apply(npoaf, axis=1)\n",
    "indicators['simplified'] = indicators.apply(simplified, axis=1)\n",
    "indicators['comaf'] = indicators.apply(comaf, axis=1)"
   ]
  },
  {
   "cell_type": "markdown",
   "id": "a18cbe67-5b9f-4ce3-84bf-a517cb27d8ae",
   "metadata": {},
   "source": [
    "##### Export the final dataset for use in the dashboard"
   ]
  },
  {
   "cell_type": "code",
   "execution_count": 34,
   "id": "516928ac-c81d-48b9-9e56-701bc288a56b",
   "metadata": {},
   "outputs": [],
   "source": [
    "indicators.to_csv('../../Data/risk.csv')"
   ]
  },
  {
   "cell_type": "code",
   "execution_count": null,
   "id": "d86f0ad7-6215-49c9-85f1-820f4a8ea39a",
   "metadata": {},
   "outputs": [],
   "source": []
  }
 ],
 "metadata": {
  "kernelspec": {
   "display_name": "Python 3",
   "language": "python",
   "name": "python3"
  },
  "language_info": {
   "codemirror_mode": {
    "name": "ipython",
    "version": 3
   },
   "file_extension": ".py",
   "mimetype": "text/x-python",
   "name": "python",
   "nbconvert_exporter": "python",
   "pygments_lexer": "ipython3",
   "version": "3.8.8"
  },
  "toc-autonumbering": false,
  "toc-showcode": false,
  "toc-showmarkdowntxt": false
 },
 "nbformat": 4,
 "nbformat_minor": 5
}
