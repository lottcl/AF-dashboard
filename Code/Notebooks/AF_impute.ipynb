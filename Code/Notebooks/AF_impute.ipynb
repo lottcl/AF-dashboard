{
 "cells": [
  {
   "cell_type": "markdown",
   "id": "771ee1b1-0635-453d-a87c-18b6511ef8af",
   "metadata": {},
   "source": [
    "### MIMIC-III Data Imputation"
   ]
  },
  {
   "cell_type": "markdown",
   "id": "c6bd6cc8-3daa-4a6b-8359-b5caf252a001",
   "metadata": {},
   "source": [
    "##### Install and load `mice` package"
   ]
  },
  {
   "cell_type": "code",
   "execution_count": null,
   "id": "7f18867e-715d-455c-a9c3-6c76ace5064d",
   "metadata": {},
   "outputs": [],
   "source": [
    "if(!require(\"mice\"))(install.packages(\"mice\"))\n",
    "library(\"mice\")"
   ]
  },
  {
   "cell_type": "markdown",
   "id": "63e1f897-3a42-4bfc-b333-434568411634",
   "metadata": {},
   "source": [
    "##### Read in the data"
   ]
  },
  {
   "cell_type": "code",
   "execution_count": null,
   "id": "440c454f-2871-488b-81c6-b3214f994032",
   "metadata": {},
   "outputs": [],
   "source": [
    "na_creatinine <- read.csv(\"../../Data/MIMIC-III/na_creatinine.csv\")"
   ]
  },
  {
   "cell_type": "markdown",
   "id": "aea90cb0-3aa5-44d6-9a29-877bb80aa396",
   "metadata": {},
   "source": [
    "##### Run the auto-imputation using the `mice` package"
   ]
  },
  {
   "cell_type": "code",
   "execution_count": null,
   "id": "3cc54e7b-f5e0-4287-9d5e-66ac999d33fb",
   "metadata": {},
   "outputs": [],
   "source": [
    "imp_creatinine <- complete(mice(na_creatinine))"
   ]
  },
  {
   "cell_type": "markdown",
   "id": "e0a78307-7358-4ce1-827f-ce6e6be93bc1",
   "metadata": {},
   "source": [
    "##### Export the imputed data to use for score calculation"
   ]
  },
  {
   "cell_type": "code",
   "execution_count": null,
   "id": "e5a904c7-8889-4062-83f9-50eee8c748b5",
   "metadata": {},
   "outputs": [],
   "source": [
    "write.csv(imp_creatinine, \"../../Data/MIMIC-III/imp_creatinine.csv\")"
   ]
  }
 ],
 "metadata": {
  "kernelspec": {
   "display_name": "R",
   "language": "R",
   "name": "ir"
  },
  "language_info": {
   "codemirror_mode": "r",
   "file_extension": ".r",
   "mimetype": "text/x-r-source",
   "name": "R",
   "pygments_lexer": "r",
   "version": "3.6.1"
  }
 },
 "nbformat": 4,
 "nbformat_minor": 5
}
